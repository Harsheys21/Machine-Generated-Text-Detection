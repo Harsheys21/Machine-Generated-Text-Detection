{
 "cells": [
  {
   "cell_type": "markdown",
   "metadata": {},
   "source": [
    "# Machine generated Text Detection"
   ]
  },
  {
   "cell_type": "markdown",
   "metadata": {},
   "source": [
    "Description of the project"
   ]
  },
  {
   "cell_type": "markdown",
   "metadata": {},
   "source": [
    "## Baseline:"
   ]
  },
  {
   "cell_type": "code",
   "execution_count": 8,
   "metadata": {},
   "outputs": [],
   "source": [
    "from datasets import Dataset\n",
    "import pandas as pd\n",
    "import evaluate\n",
    "import numpy as np\n",
    "from transformers import AutoModelForSequenceClassification, TrainingArguments, Trainer, DataCollatorWithPadding, AutoTokenizer, set_seed\n",
    "import os\n",
    "from sklearn.model_selection import train_test_split\n",
    "import torch\n",
    "from scipy.special import softmax\n",
    "import logging"
   ]
  },
  {
   "cell_type": "markdown",
   "metadata": {},
   "source": [
    "### Baseline Model:"
   ]
  },
  {
   "cell_type": "code",
   "execution_count": null,
   "metadata": {},
   "outputs": [],
   "source": [
    "import pandas as pd\n",
    "import numpy as np\n",
    "from sklearn.model_selection import train_test_split\n",
    "from sklearn.feature_extraction.text import CountVectorizer\n",
    "from sklearn.naive_bayes import MultinomialNB\n",
    "from sklearn.metrics import classification_report\n",
    "import logging\n",
    "import os\n",
    "\n",
    "# Read data and split into train/validation/test\n",
    "def get_data(train_path, test_path, random_seed):\n",
    "    \"\"\"\n",
    "    Function to read dataframe with columns.\n",
    "    \"\"\"\n",
    "    train_df = pd.read_json(train_path, lines=True)\n",
    "    test_df = pd.read_json(test_path, lines=True)\n",
    "    \n",
    "    train_df, val_df = train_test_split(train_df, test_size=0.2, stratify=train_df['label'], random_state=random_seed)\n",
    "    return train_df, val_df, test_df\n",
    "\n",
    "# Preprocess text data\n",
    "def preprocess_function(examples):\n",
    "    return examples[\"text\"]\n",
    "\n",
    "# Train Naive Bayes model\n",
    "def fine_tune(train_df, valid_df):\n",
    "    # Extract text and labels\n",
    "    X_train = train_df['text']\n",
    "    y_train = train_df['label']\n",
    "    X_valid = valid_df['text']\n",
    "    y_valid = valid_df['label']\n",
    "\n",
    "    # Vectorize text data\n",
    "    vectorizer = CountVectorizer()\n",
    "    X_train_vec = vectorizer.fit_transform(X_train)\n",
    "    X_valid_vec = vectorizer.transform(X_valid)\n",
    "\n",
    "    # Initialize Naive Bayes model\n",
    "    model = MultinomialNB()\n",
    "    model.fit(X_train_vec, y_train)\n",
    "\n",
    "    # Evaluate the model on the validation set\n",
    "    y_pred = model.predict(X_valid_vec)\n",
    "    report = classification_report(y_valid, y_pred)\n",
    "    logging.info(f\"Validation Classification Report:\\n{report}\")\n",
    "    \n",
    "    return model, vectorizer\n",
    "\n",
    "# Test Naive Bayes model\n",
    "def test(test_df, model, vectorizer):\n",
    "    X_test = test_df['text']\n",
    "    y_test = test_df['label']\n",
    "    \n",
    "    # Vectorize test data\n",
    "    X_test_vec = vectorizer.transform(X_test)\n",
    "    \n",
    "    # Make predictions\n",
    "    y_pred = model.predict(X_test_vec)\n",
    "    \n",
    "    # Get classification report\n",
    "    report = classification_report(y_test, y_pred)\n",
    "    logging.info(f\"Test Classification Report:\\n{report}\")\n",
    "    \n",
    "    return report, y_pred\n",
    "\n",
    "# Main script\n",
    "random_seed = 0\n",
    "train_path = 'dataset/subtaskA_train_monolingual.jsonl'\n",
    "test_path = 'dataset/subtaskA_monolingual_gold.jsonl'\n",
    "prediction_path = 'baseline_Results.jsonl'\n",
    "\n",
    "if not os.path.exists(train_path):\n",
    "    logging.error(f\"File doesn't exist: {train_path}\")\n",
    "    raise ValueError(f\"File doesn't exist: {train_path}\")\n",
    "\n",
    "if not os.path.exists(test_path):\n",
    "    logging.error(f\"File doesn't exist: {test_path}\")\n",
    "    raise ValueError(f\"File doesn't exist: {test_path}\")\n",
    "\n",
    "# Get data for train/dev/test sets\n",
    "train_df, valid_df, test_df = get_data(train_path, test_path, random_seed)\n",
    "\n",
    "# Train the Naive Bayes model\n",
    "model, vectorizer = fine_tune(train_df, valid_df)\n",
    "\n",
    "# Test the Naive Bayes model\n",
    "results, predictions = test(test_df, model, vectorizer)\n",
    "\n",
    "# Save predictions to file\n",
    "predictions_df = pd.DataFrame({'id': test_df['id'], 'label': predictions})\n",
    "predictions_df.to_json(prediction_path, lines=True, orient='records')\n"
   ]
  },
  {
   "cell_type": "markdown",
   "metadata": {},
   "source": [
    "### Baseline Evaluation:"
   ]
  },
  {
   "cell_type": "code",
   "execution_count": null,
   "metadata": {},
   "outputs": [],
   "source": []
  },
  {
   "cell_type": "markdown",
   "metadata": {},
   "source": [
    "## Deep Learning:"
   ]
  },
  {
   "cell_type": "markdown",
   "metadata": {},
   "source": [
    "### Deep Learning Based Model:"
   ]
  },
  {
   "cell_type": "code",
   "execution_count": null,
   "metadata": {},
   "outputs": [],
   "source": []
  },
  {
   "cell_type": "markdown",
   "metadata": {},
   "source": [
    "### Deep Learning Evaluation:"
   ]
  },
  {
   "cell_type": "code",
   "execution_count": null,
   "metadata": {},
   "outputs": [],
   "source": []
  },
  {
   "cell_type": "markdown",
   "metadata": {},
   "source": [
    "## LLM:"
   ]
  },
  {
   "cell_type": "markdown",
   "metadata": {},
   "source": [
    "### LLM Based Model:"
   ]
  },
  {
   "cell_type": "code",
   "execution_count": null,
   "metadata": {},
   "outputs": [],
   "source": []
  },
  {
   "cell_type": "markdown",
   "metadata": {},
   "source": [
    "### LLM Evaluation:"
   ]
  },
  {
   "cell_type": "code",
   "execution_count": null,
   "metadata": {},
   "outputs": [],
   "source": []
  }
 ],
 "metadata": {
  "kernelspec": {
   "display_name": "venv",
   "language": "python",
   "name": "python3"
  },
  "language_info": {
   "codemirror_mode": {
    "name": "ipython",
    "version": 3
   },
   "file_extension": ".py",
   "mimetype": "text/x-python",
   "name": "python",
   "nbconvert_exporter": "python",
   "pygments_lexer": "ipython3",
   "version": "3.12.6"
  }
 },
 "nbformat": 4,
 "nbformat_minor": 2
}
